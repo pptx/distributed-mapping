{
 "cells": [
  {
   "cell_type": "code",
   "execution_count": 1,
   "source": [
    "%load_ext autoreload\n",
    "%autoreload 2\n",
    "import PIL\n",
    "import numpy as np\n",
    "import matplotlib.pyplot as plt\n",
    "import matplotlib.cm as cmtorch\n",
    "from lidar import ClippedLidar2D, OnlineTrajectoryLidarDataset, TrajectoryLidarDataset, RandomPoseLidarDataset, Lidar2D\n",
    "import torch"
   ],
   "outputs": [],
   "metadata": {}
  },
  {
   "cell_type": "code",
   "execution_count": 2,
   "source": [
    "# traj = np.load(\"../planner/waypoint_path1.npy\")\n",
    "# traj = np.load(\"../planner/test_path.npy\")\n",
    "# traj = np.load(\"../planner/test_path2.npy\")"
   ],
   "outputs": [],
   "metadata": {}
  },
  {
   "cell_type": "code",
   "execution_count": 3,
   "source": [
    "# Full Lidar image for one short path\n",
    "num_beams = 20\n",
    "beam_samps = 25\n",
    "beam_length = 0.2\n",
    "spline_res = 80\n",
    "samp_distribution_factor = 1.0\n",
    "collision_samps = 50\n",
    "fine_samps = 3\n",
    "img_path = \"../32_data/floor_img.png\"\n",
    "\n",
    "lidar = Lidar2D(img_path, num_beams, beam_length, beam_samps,\n",
    "    samp_distribution_factor, collision_samps,\n",
    "    fine_samps, border_width=30)\n",
    "\n",
    "waypoints = np.load(\"../32_data/tight_paths/6.npy\")\n",
    "bldataset = TrajectoryLidarDataset(lidar, waypoints, spline_res)\n",
    "#bldataset = RandomPoseLidarDataset(img_path, num_beams, beam_length,\n",
    "#    beam_samps, samp_distribution_factor, collision_samps, fine_samps, num_scans, border_width=30)\n",
    "ld_points = bldataset.scans[bldataset.scans[:,2] != 1.0]\n",
    "hd_points = bldataset.scans[bldataset.scans[:,2] == 1.0]\n",
    "print(\"hd point ratio regular: \", torch.sum(bldataset.scans[:,2] == 1.0) / bldataset.scans.shape[0])\n",
    "\n",
    "lidar = ClippedLidar2D(img_path, num_beams, beam_length, 20, border_width=30)\n",
    "\n",
    "bldataset = TrajectoryLidarDataset(lidar, waypoints, spline_res)\n",
    "#bldataset = RandomPoseLidarDataset(img_path, num_beams, beam_length,\n",
    "#    beam_samps, samp_distribution_factor, collision_samps, fine_samps, num_scans, border_width=30)\n",
    "cli_ld_points = bldataset.scans[bldataset.scans[:,2] != 1.0]\n",
    "cli_hd_points = bldataset.scans[bldataset.scans[:,2] == 1.0]\n",
    "print(\"hd point ratio clipped: \", torch.sum(bldataset.scans[:,2] == 1.0) / bldataset.scans.shape[0])\n"
   ],
   "outputs": [
    {
     "output_type": "stream",
     "name": "stdout",
     "text": [
      "hd point ratio regular:  tensor(0.0304)\n",
      "hd point ratio clipped:  tensor(0.0473)\n"
     ]
    }
   ],
   "metadata": {}
  },
  {
   "cell_type": "code",
   "execution_count": 4,
   "source": [
    "bldataset.scans[:1000, 2] == 1.0"
   ],
   "outputs": [
    {
     "output_type": "execute_result",
     "data": {
      "text/plain": [
       "tensor([False, False, False, False, False, False, False, False, False, False,\n",
       "        False,  True, False, False, False, False, False, False, False, False,\n",
       "        False, False, False, False, False, False, False, False, False, False,\n",
       "        False, False, False, False, False, False, False, False, False, False,\n",
       "        False, False, False, False, False, False,  True, False, False, False,\n",
       "        False, False, False, False, False, False, False, False, False, False,\n",
       "        False,  True, False, False, False, False, False, False, False, False,\n",
       "        False, False, False, False, False, False, False, False, False, False,\n",
       "        False, False, False, False, False, False, False, False, False, False,\n",
       "        False, False, False, False, False, False, False, False, False, False,\n",
       "        False, False, False, False, False, False, False, False, False, False,\n",
       "        False, False, False, False,  True, False, False, False, False, False,\n",
       "        False, False, False, False, False,  True, False, False, False, False,\n",
       "        False, False, False,  True, False, False, False, False, False, False,\n",
       "         True, False, False, False, False, False, False,  True, False, False,\n",
       "        False, False, False, False,  True, False, False, False, False, False,\n",
       "        False,  True, False, False, False, False, False,  True, False, False,\n",
       "        False, False, False,  True, False, False, False, False, False,  True,\n",
       "        False, False, False, False, False,  True, False, False, False, False,\n",
       "        False, False,  True, False, False, False, False, False, False, False,\n",
       "        False,  True, False, False, False, False, False, False, False, False,\n",
       "        False, False, False,  True, False, False, False, False, False, False,\n",
       "        False, False, False, False, False,  True, False, False, False, False,\n",
       "        False, False, False, False, False, False, False, False, False, False,\n",
       "        False, False, False, False, False, False, False, False, False, False,\n",
       "        False, False, False, False, False, False, False, False, False, False,\n",
       "        False, False, False, False, False, False, False, False, False, False,\n",
       "        False, False, False, False, False, False, False, False, False, False,\n",
       "         True, False, False, False, False, False, False, False, False, False,\n",
       "        False, False, False, False, False, False, False, False, False, False,\n",
       "        False, False, False, False, False, False, False, False, False, False,\n",
       "        False, False, False, False, False, False, False, False, False, False,\n",
       "        False, False, False, False, False, False, False, False, False, False,\n",
       "        False, False, False,  True, False, False, False, False, False, False,\n",
       "        False, False, False, False,  True, False, False, False, False, False,\n",
       "        False, False,  True, False, False, False, False, False, False,  True,\n",
       "        False, False, False, False, False, False,  True, False, False, False,\n",
       "        False, False, False,  True, False, False, False, False, False, False,\n",
       "         True, False, False, False, False, False,  True, False, False, False,\n",
       "        False, False,  True, False, False, False, False, False,  True, False,\n",
       "        False, False, False, False,  True, False, False, False, False, False,\n",
       "        False,  True, False, False, False, False, False, False, False, False,\n",
       "         True, False, False, False, False, False, False, False, False, False,\n",
       "        False, False,  True, False, False, False, False, False, False, False,\n",
       "        False, False, False, False,  True, False, False, False, False, False,\n",
       "        False, False, False, False, False, False, False, False, False, False,\n",
       "        False, False, False, False, False, False, False, False, False, False,\n",
       "        False, False, False, False, False, False, False, False, False, False,\n",
       "        False, False, False, False, False, False, False, False, False, False,\n",
       "        False, False, False, False, False, False, False, False, False,  True,\n",
       "        False, False, False, False, False, False, False, False, False, False,\n",
       "        False, False, False, False, False, False, False, False, False, False,\n",
       "        False, False, False, False, False, False, False, False, False, False,\n",
       "        False, False, False, False, False, False, False, False, False, False,\n",
       "        False, False, False, False, False, False, False, False, False, False,\n",
       "        False, False,  True, False, False, False, False, False, False, False,\n",
       "        False, False, False,  True, False, False, False, False, False, False,\n",
       "        False,  True, False, False, False, False, False, False,  True, False,\n",
       "        False, False, False, False, False,  True, False, False, False, False,\n",
       "        False, False,  True, False, False, False, False, False, False,  True,\n",
       "        False, False, False, False, False,  True, False, False, False, False,\n",
       "        False,  True, False, False, False, False, False,  True, False, False,\n",
       "        False, False, False,  True, False, False, False, False, False, False,\n",
       "         True, False, False, False, False, False, False, False, False,  True,\n",
       "        False, False, False, False, False, False, False, False, False, False,\n",
       "        False,  True, False, False, False, False, False, False, False, False,\n",
       "        False, False, False,  True, False, False, False, False, False, False,\n",
       "        False, False, False, False, False, False, False, False, False, False,\n",
       "        False, False, False, False, False, False, False, False, False, False,\n",
       "        False, False, False, False, False, False, False, False, False, False,\n",
       "        False, False, False, False, False, False, False, False, False, False,\n",
       "        False, False, False, False, False, False, False, False,  True, False,\n",
       "        False, False, False, False, False, False, False, False, False, False,\n",
       "        False, False, False, False, False, False, False, False, False, False,\n",
       "        False, False, False, False, False, False, False, False, False, False,\n",
       "        False, False, False, False, False, False, False, False, False, False,\n",
       "        False, False, False, False, False, False, False, False, False, False,\n",
       "        False,  True, False, False, False, False, False, False, False, False,\n",
       "        False, False,  True, False, False, False, False, False, False, False,\n",
       "         True, False, False, False, False, False, False,  True, False, False,\n",
       "        False, False, False, False,  True, False, False, False, False, False,\n",
       "        False,  True, False, False, False, False, False, False,  True, False,\n",
       "        False, False, False, False,  True, False, False, False, False, False,\n",
       "         True, False, False, False, False, False,  True, False, False, False,\n",
       "        False, False,  True, False, False, False, False, False, False,  True,\n",
       "        False, False, False, False, False, False, False, False,  True, False,\n",
       "        False, False, False, False, False, False, False, False, False, False,\n",
       "         True, False, False, False, False, False, False, False, False, False,\n",
       "        False, False,  True, False, False, False, False, False, False, False,\n",
       "        False, False, False, False, False, False, False, False, False, False,\n",
       "        False, False, False, False, False, False, False, False, False, False,\n",
       "        False, False, False, False, False, False, False, False, False, False,\n",
       "        False, False, False, False, False, False, False, False, False, False,\n",
       "        False, False, False, False, False, False, False,  True, False, False,\n",
       "        False, False, False, False, False, False, False, False, False, False,\n",
       "        False, False, False, False, False, False, False, False, False, False,\n",
       "        False, False, False, False, False, False, False, False, False, False,\n",
       "        False, False, False, False, False, False, False, False, False, False,\n",
       "        False, False, False, False, False, False, False, False, False, False,\n",
       "         True, False, False, False, False, False, False, False, False, False])"
      ]
     },
     "metadata": {},
     "execution_count": 4
    }
   ],
   "metadata": {}
  },
  {
   "cell_type": "code",
   "execution_count": 5,
   "source": [
    "fig, ax = plt.subplots(figsize=(7, 7))\n",
    "X, Y = np.meshgrid(bldataset.lidar.xs, bldataset.lidar.ys)\n",
    "ax.contourf(X, Y, bldataset.lidar.img, cmap=cmtorch.binary)\n",
    "ax.scatter(ld_points[:, 0], ld_points[:, 1], c='indigo', s=2)\n",
    "ax.scatter(hd_points[:, 0], hd_points[:, 1], c='gold', s=2)\n",
    "ax.plot(bldataset.scan_locs[:, 0], bldataset.scan_locs[:, 1], c='gold')\n"
   ],
   "outputs": [
    {
     "output_type": "execute_result",
     "data": {
      "text/plain": [
       "[<matplotlib.lines.Line2D at 0x7f74293ceac0>]"
      ]
     },
     "metadata": {},
     "execution_count": 5
    },
    {
     "output_type": "display_data",
     "data": {
      "image/png": "[encoded data removed]",
      "text/plain": [
       "<Figure size 504x504 with 1 Axes>"
      ]
     },
     "metadata": {
      "needs_background": "light"
     }
    }
   ],
   "metadata": {}
  },
  {
   "cell_type": "code",
   "execution_count": 6,
   "source": [
    "import random\n",
    "\n",
    "class OnlineTensorDataset(torch.utils.data.Dataset):\n",
    "    def __init__(self, batch_size):\n",
    "        self.my_data = torch.arange(0, 15)\n",
    "        self.tds = torch.utils.data.TensorDataset(self.my_data)\n",
    "        self.len_tds = len(self.tds)\n",
    "        self.window = 5\n",
    "        self.curr_time = 4\n",
    "        \n",
    "        self.gen_next_index_list()\n",
    "    \n",
    "    def __getitem__(self, idx):\n",
    "        if not self.curr_idx_list:\n",
    "            self.gen_next_index_list()\n",
    "        \n",
    "        real_idx = self.curr_idx_list.pop()\n",
    "        return self.tds[real_idx]\n",
    "    \n",
    "    def __len__(self):\n",
    "        return self.window * len(self.tds)\n",
    "    \n",
    "    def gen_next_index_list(self):\n",
    "        if self.curr_time >= self.len_tds:\n",
    "            self.curr_time = 0\n",
    "        self.curr_time += 1\n",
    "        \n",
    "        self.curr_idx_list = list(range(self.curr_time - self.window, self.curr_time))\n",
    "        print(self.curr_idx_list)\n",
    "        random.shuffle(self.curr_idx_list)\n",
    "        return"
   ],
   "outputs": [],
   "metadata": {}
  },
  {
   "cell_type": "code",
   "execution_count": 7,
   "source": [
    "ids = OnlineTensorDataset(batch_size=4)\n",
    "test_dl = torch.utils.data.DataLoader(ids, batch_size=4)\n",
    "\n",
    "for batch in test_dl:\n",
    "    pass\n",
    "    #ids.step()\n",
    "\n",
    "ids.curr_idx_list"
   ],
   "outputs": [
    {
     "output_type": "stream",
     "name": "stdout",
     "text": [
      "[0, 1, 2, 3, 4]\n",
      "[1, 2, 3, 4, 5]\n",
      "[2, 3, 4, 5, 6]\n",
      "[3, 4, 5, 6, 7]\n",
      "[4, 5, 6, 7, 8]\n",
      "[5, 6, 7, 8, 9]\n",
      "[6, 7, 8, 9, 10]\n",
      "[7, 8, 9, 10, 11]\n",
      "[8, 9, 10, 11, 12]\n",
      "[9, 10, 11, 12, 13]\n",
      "[10, 11, 12, 13, 14]\n",
      "[-4, -3, -2, -1, 0]\n",
      "[-3, -2, -1, 0, 1]\n",
      "[-2, -1, 0, 1, 2]\n",
      "[-1, 0, 1, 2, 3]\n"
     ]
    },
    {
     "output_type": "execute_result",
     "data": {
      "text/plain": [
       "[]"
      ]
     },
     "metadata": {},
     "execution_count": 7
    }
   ],
   "metadata": {}
  },
  {
   "cell_type": "code",
   "execution_count": 23,
   "source": [
    "num_beams = 20\n",
    "beam_samps = 25\n",
    "beam_length = 0.2\n",
    "spline_res = 30\n",
    "samp_distribution_factor = 1.0\n",
    "collision_samps = 50\n",
    "fine_samps = 3\n",
    "num_scans_in_window = 400\n",
    "#lidar = ClippedLidar2D(img_path, num_beams, beam_length, beam_samps,\n",
    "#    border_width=30)\n",
    "lidar = Lidar2D(img_path, num_beams, beam_length, beam_samps,\n",
    "    samp_distribution_factor, collision_samps,\n",
    "    fine_samps, border_width=30)\n",
    "\n",
    "waypoints = np.load(\"../32_data/tight_paths/1.npy\")\n",
    "ods = OnlineTrajectoryLidarDataset(lidar, waypoints, spline_res, num_scans_in_window, round_density=True)\n"
   ],
   "outputs": [
    {
     "output_type": "stream",
     "name": "stdout",
     "text": [
      "lb:  0  ub:  200000\n"
     ]
    }
   ],
   "metadata": {}
  },
  {
   "cell_type": "code",
   "execution_count": 24,
   "source": [
    "ods_dl = torch.utils.data.DataLoader(ods, batch_size=10000)"
   ],
   "outputs": [],
   "metadata": {}
  },
  {
   "cell_type": "code",
   "execution_count": 25,
   "source": [
    "(fig, ax) = plt.subplots(figsize=(5, 5))\n",
    "ax.contourf(X, Y, lidar.img, cmap=cmtorch.binary)\n",
    "ax.plot(ods.scan_locs[:, 0], ods.scan_locs[:, 1], c='green')\n",
    "diter = iter(ods_dl)\n",
    "c = 0\n",
    "while True:\n",
    "    try:\n",
    "        locs, dens = next(diter)\n",
    "    except:\n",
    "        c += 1\n",
    "        diter = iter(ods_dl)\n",
    "        if c == 2:\n",
    "            break\n",
    "\n",
    "    ax.scatter(ods.curr_pos[0], ods.curr_pos[1], c=\"r\")"
   ],
   "outputs": [
    {
     "output_type": "stream",
     "name": "stdout",
     "text": [
      "lb:  200000  ub:  400000\n",
      "lb:  200000  ub: \n",
      " 400000lb:  200000  ub:  400000\n",
      "lb:  200000  ub: \n",
      " 400000lb:  200000  ub:  400000\n",
      "lb:  200000  ub:  400000\n",
      "lb:  200000  ub:  400000\n",
      "lb:  200000  ub: \n",
      " 400000"
     ]
    },
    {
     "output_type": "display_data",
     "data": {
      "image/png": "[encoded data removed]",
      "text/plain": [
       "<Figure size 360x360 with 1 Axes>"
      ]
     },
     "metadata": {
      "needs_background": "light"
     }
    }
   ],
   "metadata": {}
  },
  {
   "cell_type": "code",
   "execution_count": 26,
   "source": [
    "plt.plot(ods.batch_tracker)"
   ],
   "outputs": [
    {
     "output_type": "execute_result",
     "data": {
      "text/plain": [
       "[<matplotlib.lines.Line2D at 0x7f75d1aab610>]"
      ]
     },
     "metadata": {},
     "execution_count": 26
    },
    {
     "output_type": "display_data",
     "data": {
      "image/png": "[encoded data removed]",
      "text/plain": [
       "<Figure size 432x288 with 1 Axes>"
      ]
     },
     "metadata": {
      "needs_background": "light"
     }
    }
   ],
   "metadata": {}
  },
  {
   "cell_type": "code",
   "execution_count": 12,
   "source": [
    "len(ods)"
   ],
   "outputs": [
    {
     "output_type": "execute_result",
     "data": {
      "text/plain": [
       "1215000"
      ]
     },
     "metadata": {},
     "execution_count": 12
    }
   ],
   "metadata": {}
  }
 ],
 "metadata": {
  "kernelspec": {
   "name": "python3",
   "display_name": "Python 3.8.10 64-bit ('venv': venv)"
  },
  "language_info": {
   "codemirror_mode": {
    "name": "ipython",
    "version": 3
   },
   "file_extension": ".py",
   "mimetype": "text/x-python",
   "name": "python",
   "nbconvert_exporter": "python",
   "pygments_lexer": "ipython3",
   "version": "3.8.10"
  },
  "metadata": {
   "interpreter": {
    "hash": "98daabec3d9ee92a94e437b98eced254849f05673a4aa740cd51b4c791e1d3a4"
   }
  },
  "interpreter": {
   "hash": "98daabec3d9ee92a94e437b98eced254849f05673a4aa740cd51b4c791e1d3a4"
  }
 },
 "nbformat": 4,
 "nbformat_minor": 2
}